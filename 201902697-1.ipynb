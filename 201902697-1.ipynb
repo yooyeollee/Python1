{
  "nbformat": 4,
  "nbformat_minor": 0,
  "metadata": {
    "colab": {
      "provenance": [],
      "authorship_tag": "ABX9TyPxtCzolrKhHJzf/tyAt224",
      "include_colab_link": true
    },
    "kernelspec": {
      "name": "python3",
      "display_name": "Python 3"
    },
    "language_info": {
      "name": "python"
    }
  },
  "cells": [
    {
      "cell_type": "markdown",
      "metadata": {
        "id": "view-in-github",
        "colab_type": "text"
      },
      "source": [
        "<a href=\"https://colab.research.google.com/github/yooyeollee/Python1/blob/main/201902697-1.ipynb\" target=\"_parent\"><img src=\"https://colab.research.google.com/assets/colab-badge.svg\" alt=\"Open In Colab\"/></a>"
      ]
    },
    {
      "cell_type": "code",
      "execution_count": 20,
      "metadata": {
        "colab": {
          "base_uri": "https://localhost:8080/"
        },
        "id": "6phK7WJiyjQW",
        "outputId": "e64a2955-054f-4b31-e962-be596537bf94"
      },
      "outputs": [
        {
          "output_type": "stream",
          "name": "stdout",
          "text": [
            "3\n",
            "12\n",
            "3는 12의 약수이지만, 12가 아니다.\n"
          ]
        }
      ],
      "source": [
        "def divisor(a,b):\n",
        "    x=Check(a,b)\n",
        "    if (x==1):\n",
        "        print(\"%d는 %d의 약수이지만, %d가 아니다.\"%(a,b,b))\n",
        "    else:\n",
        "        print(\"%d와 %d는 서로의 약수가 아니다.\"%(a,b))\n",
        "\n",
        "def Check(x,y):\n",
        "    if ((y%x)==0):\n",
        "        return 1\n",
        "    else:\n",
        "        return 0\n",
        "\n",
        "x= int(input())\n",
        "y= int(input())\n",
        "if(x>y):\n",
        "    divisor(y,x)\n",
        "elif(x==y):\n",
        "    print(\"%d와 %d는 같은 숫자이다.\"%(x,y))\n",
        "else:\n",
        "    divisor(x,y)\n"
      ]
    },
    {
      "cell_type": "code",
      "source": [],
      "metadata": {
        "id": "OVwHV1rg2EzY"
      },
      "execution_count": null,
      "outputs": []
    }
  ]
}