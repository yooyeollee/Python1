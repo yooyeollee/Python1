{
  "nbformat": 4,
  "nbformat_minor": 0,
  "metadata": {
    "colab": {
      "provenance": [],
      "authorship_tag": "ABX9TyNuxgGHSuZB+gsd+C+zSbn7",
      "include_colab_link": true
    },
    "kernelspec": {
      "name": "python3",
      "display_name": "Python 3"
    },
    "language_info": {
      "name": "python"
    }
  },
  "cells": [
    {
      "cell_type": "markdown",
      "metadata": {
        "id": "view-in-github",
        "colab_type": "text"
      },
      "source": [
        "<a href=\"https://colab.research.google.com/github/yooyeollee/non-ria-programming/blob/main/201902697.ipynb\" target=\"_parent\"><img src=\"https://colab.research.google.com/assets/colab-badge.svg\" alt=\"Open In Colab\"/></a>"
      ]
    },
    {
      "cell_type": "code",
      "execution_count": 1,
      "metadata": {
        "colab": {
          "base_uri": "https://localhost:8080/"
        },
        "id": "1FNXfrv9L06P",
        "outputId": "ebef2dec-7ea3-445b-95a9-2a79dd517659"
      },
      "outputs": [
        {
          "output_type": "stream",
          "name": "stdout",
          "text": [
            "숫자를 입력하시오: 6\n",
            "1\n",
            "12\n",
            "123\n",
            "1234\n",
            "12345\n",
            "123456\n"
          ]
        }
      ],
      "source": [
        "n = str(input(\"숫자를 입력하시오: \"))\n",
        "if n.isdecimal():\n",
        "  n = int(n)\n",
        "  if n <= 30:\n",
        "    for i in range(1, n + 1):\n",
        "      for j in range(1, i + 1):\n",
        "        print(j,end=\"\")\n",
        "      print()\n",
        "  else:\n",
        "    print(\"너무 많습니다\")\n",
        "else:\n",
        "  print(\"정수를 입력해 주세요\")\n"
      ]
    }
  ]
}