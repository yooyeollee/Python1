{
  "nbformat": 4,
  "nbformat_minor": 0,
  "metadata": {
    "colab": {
      "provenance": [],
      "collapsed_sections": [],
      "authorship_tag": "ABX9TyMbTDfe/LqSHRF6k5r70dP7",
      "include_colab_link": true
    },
    "kernelspec": {
      "name": "python3",
      "display_name": "Python 3"
    },
    "language_info": {
      "name": "python"
    }
  },
  "cells": [
    {
      "cell_type": "markdown",
      "metadata": {
        "id": "view-in-github",
        "colab_type": "text"
      },
      "source": [
        "<a href=\"https://colab.research.google.com/github/yooyeollee/Python1/blob/main/201902697.ipynb\" target=\"_parent\"><img src=\"https://colab.research.google.com/assets/colab-badge.svg\" alt=\"Open In Colab\"/></a>"
      ]
    },
    {
      "cell_type": "code",
      "execution_count": null,
      "metadata": {
        "id": "Ye8enTeFOC8A"
      },
      "outputs": [],
      "source": [
        "P = []\n",
        "S = \"\"\n",
        "n = int(input(\"자연수 한개를 입력하세요.\"))\n",
        "P.append(n)    \n",
        "for A in range (99):\n",
        "    a = int(input(\"계속입력을 원하시면, 자연수 한 개를입력하시고, 아니라면 0을입력하세요.\"))\n",
        "    if a == 0: \n",
        "        break\n",
        "    if A > 99:\n",
        "      print(\"이제 그만하세요. 벌써 100개를 입력했어요\")\n",
        "      break\n",
        "    P.append(a)\n",
        "\n",
        "for i in range(len(P)-1,0,-1):\n",
        "    for j in range(i):\n",
        "        if P[j] > P[j+1]:\n",
        "            P[j], P[j+1] = P[j+1], P[j]\n",
        "\n",
        "for i in range(len(P)-1,-1,-1):\n",
        "    S = S+str(P[i])\n",
        "    if i != 0:\n",
        "        S = S+\", \"\n",
        "print(\"당신이 입력한 숫자는 큰 것부터 순서대로 말한다면 아래와 같습니다.\")        \n",
        "print(S)"
      ]
    },
    {
      "cell_type": "code",
      "source": [],
      "metadata": {
        "id": "T0-6kDXvHBCn"
      },
      "execution_count": null,
      "outputs": []
    }
  ]
}