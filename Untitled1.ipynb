{
  "nbformat": 4,
  "nbformat_minor": 0,
  "metadata": {
    "colab": {
      "provenance": [],
      "authorship_tag": "ABX9TyPo7Qfgb5G7PqfF8zl6cDnr",
      "include_colab_link": true
    },
    "kernelspec": {
      "name": "python3",
      "display_name": "Python 3"
    },
    "language_info": {
      "name": "python"
    }
  },
  "cells": [
    {
      "cell_type": "markdown",
      "metadata": {
        "id": "view-in-github",
        "colab_type": "text"
      },
      "source": [
        "<a href=\"https://colab.research.google.com/github/yooyeollee/non-ria-programming/blob/main/Untitled1.ipynb\" target=\"_parent\"><img src=\"https://colab.research.google.com/assets/colab-badge.svg\" alt=\"Open In Colab\"/></a>"
      ]
    },
    {
      "cell_type": "code",
      "execution_count": 6,
      "metadata": {
        "colab": {
          "base_uri": "https://localhost:8080/"
        },
        "id": "EXwWIEQlxszt",
        "outputId": "f6cc4562-60b7-4c28-d53e-366f2ebc826f"
      },
      "outputs": [
        {
          "output_type": "stream",
          "name": "stdout",
          "text": [
            "숫자를 입력하세요:6\n",
            "1\n",
            "*2\n",
            "**3\n",
            "***4\n",
            "****5\n",
            "*****6\n"
          ]
        }
      ],
      "source": [
        "a = True\n",
        "while (a):\n",
        "    n = int(input(\"숫자를 입력하세요:\"))\n",
        "    if n >= 31:\n",
        "      print(\"너무 많습니다.\")\n",
        "    if n <= 30:\n",
        "      a = False\n",
        "count = 0\n",
        "while count < n:\n",
        "   print(\"*\"*count + str(count+1))\n",
        "   count+=1       \n"
      ]
    }
  ]
}